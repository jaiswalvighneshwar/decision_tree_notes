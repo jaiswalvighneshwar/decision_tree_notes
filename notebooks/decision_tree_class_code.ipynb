{
 "cells": [
  {
   "cell_type": "code",
   "execution_count": 1,
   "metadata": {},
   "outputs": [],
   "source": [
    "import pandas as pd\n",
    "import numpy as np\n",
    "import matplotlib.pyplot as plt\n",
    "import seaborn as sns\n",
    "from sklearn.tree import DecisionTreeClassifier\n",
    "from sklearn.model_selection import train_test_split, GridSearchCV,cross_val_score\n",
    "from sklearn.preprocessing import PolynomialFeatures\n",
    "from sklearn.pipeline import Pipeline\n",
    "from sklearn.metrics import accuracy_score\n",
    "from sklearn.linear_model import LogisticRegression\n",
    "from sklearn.metrics import confusion_matrix, roc_curve, auc, accuracy_score\n",
    "from sklearn.metrics import classification_report\n",
    "%matplotlib inline"
   ]
  },
  {
   "cell_type": "markdown",
   "metadata": {},
   "source": [
    "### TODO: Use Logistic regression classifier"
   ]
  },
  {
   "cell_type": "code",
   "execution_count": 2,
   "metadata": {
    "collapsed": true
   },
   "outputs": [],
   "source": [
    "dataframe = pd.read_csv('../data/loan_prediction.csv')\n",
    "X = dataframe.iloc[:,0:5]\n",
    "y = dataframe.iloc[:,5]\n",
    "X_train,X_test,y_train,y_test = train_test_split(X,y,test_size = 0.2, random_state=9)"
   ]
  },
  {
   "cell_type": "code",
   "execution_count": 3,
   "metadata": {
    "collapsed": true
   },
   "outputs": [],
   "source": [
    "logistic_regressor = LogisticRegression()"
   ]
  },
  {
   "cell_type": "markdown",
   "metadata": {},
   "source": [
    "### TODO: Pipeline with polynomial features"
   ]
  },
  {
   "cell_type": "code",
   "execution_count": 4,
   "metadata": {
    "collapsed": true
   },
   "outputs": [],
   "source": [
    "pipeline = Pipeline(steps=[('add_poly_features', PolynomialFeatures()),\n",
    "                           ('logistic_regression', logistic_regressor)])"
   ]
  },
  {
   "cell_type": "code",
   "execution_count": 5,
   "metadata": {
    "collapsed": true
   },
   "outputs": [],
   "source": [
    "pipeline.fit(X_train, y_train)\n",
    "y_pred_l = pipeline.predict(X_test)\n"
   ]
  },
  {
   "cell_type": "markdown",
   "metadata": {},
   "source": [
    "### TODO: Use GreicSearchCV for hyperparameter search"
   ]
  },
  {
   "cell_type": "code",
   "execution_count": 6,
   "metadata": {
    "collapsed": true
   },
   "outputs": [],
   "source": [
    "params = {'add_poly_features__degree':[1,2,3,4,5],\n",
    "#           'add_poly_features_interaction_only': [True, False],\n",
    "          'logistic_regression__penalty':['l1','l2']}"
   ]
  },
  {
   "cell_type": "code",
   "execution_count": 7,
   "metadata": {
    "collapsed": true
   },
   "outputs": [],
   "source": [
    "def do_grid_search(X_train, X_test, y_train, pipeline, params):\n",
    "    grid_search = GridSearchCV(estimator=pipeline, param_grid=params)\n",
    "    grid_search.fit(X_train,y_train)\n",
    "    return grid_search"
   ]
  },
  {
   "cell_type": "code",
   "execution_count": 8,
   "metadata": {},
   "outputs": [
    {
     "data": {
      "text/plain": [
       "array([ 0.81707317,  0.74390244,  0.76687117])"
      ]
     },
     "execution_count": 8,
     "metadata": {},
     "output_type": "execute_result"
    }
   ],
   "source": [
    "grid_search = do_grid_search(X_train, X_test, y_train, pipeline, params)\n",
    "cross_val_score(grid_search.best_estimator_,X_train,y_train)"
   ]
  },
  {
   "cell_type": "code",
   "execution_count": 9,
   "metadata": {
    "collapsed": true
   },
   "outputs": [],
   "source": [
    "y_pred_g = grid_search.predict(X_test)\n",
    "y_pred_gp = grid_search.predict_proba(X_test)"
   ]
  },
  {
   "cell_type": "code",
   "execution_count": 10,
   "metadata": {},
   "outputs": [
    {
     "data": {
      "text/plain": [
       "array([ 0.82904788,  0.80773558,  0.70299416,  0.81469856,  0.37461241,\n",
       "        0.36419608,  0.84232111,  0.37675768,  0.80651012,  0.33415065,\n",
       "        0.78662674,  0.85446641,  0.34631095,  0.81117816,  0.81833768,\n",
       "        0.81044951,  0.80814083,  0.33639752,  0.81460618,  0.81455938,\n",
       "        0.83012366,  0.80848645,  0.81002297,  0.80884814,  0.36873435,\n",
       "        0.78949067,  0.80772711,  0.83657055,  0.84061038,  0.79975607,\n",
       "        0.80333637,  0.39252598,  0.80939749,  0.78658009,  0.34705297,\n",
       "        0.79709676,  0.78879375,  0.80353964,  0.81721799,  0.8046509 ,\n",
       "        0.79552389,  0.83651534,  0.81640492,  0.81906136,  0.81258611,\n",
       "        0.3499439 ,  0.76671394,  0.80153233,  0.80019834,  0.37571865,\n",
       "        0.80158594,  0.80232238,  0.82491678,  0.3625001 ,  0.29796622,\n",
       "        0.80616719,  0.33987754,  0.35324125,  0.82218904,  0.81145889,\n",
       "        0.813658  ,  0.37339777,  0.78561398,  0.35201026,  0.7767534 ,\n",
       "        0.79068065,  0.32511762,  0.34691557,  0.3822776 ,  0.35323274,\n",
       "        0.83613478,  0.79379852,  0.82440909,  0.35310063,  0.81853726,\n",
       "        0.85106613,  0.30868811,  0.42365544,  0.81126825,  0.80603687,\n",
       "        0.43045875,  0.36768669,  0.36514562,  0.80522713,  0.79183365,\n",
       "        0.80782755,  0.80096956,  0.81085911,  0.76090326,  0.33871546,\n",
       "        0.81885185,  0.81246611,  0.8234496 ,  0.82472418,  0.83040187,\n",
       "        0.81653507,  0.80499438,  0.81630511,  0.80526966,  0.33545466,\n",
       "        0.77259993,  0.81333711,  0.81645004,  0.84958896,  0.37108435,\n",
       "        0.39842422,  0.80170543,  0.80373707,  0.84685195,  0.83959826,\n",
       "        0.81238095,  0.32835649,  0.3291136 ,  0.8212576 ,  0.35331607,\n",
       "        0.81547075,  0.81853875,  0.80365629,  0.77414778,  0.80605281,\n",
       "        0.79937353,  0.81413672,  0.79369031])"
      ]
     },
     "execution_count": 10,
     "metadata": {},
     "output_type": "execute_result"
    }
   ],
   "source": [
    "y_pred_gp[:,1]"
   ]
  },
  {
   "cell_type": "markdown",
   "metadata": {},
   "source": [
    "### TODO: Get Acuracy, Sensitivity, Specificity, AUC, Precision"
   ]
  },
  {
   "cell_type": "code",
   "execution_count": 11,
   "metadata": {},
   "outputs": [],
   "source": [
    "confusion_matrix = confusion_matrix(y_test, y_pred_l)"
   ]
  },
  {
   "cell_type": "code",
   "execution_count": 12,
   "metadata": {
    "collapsed": true
   },
   "outputs": [],
   "source": [
    "def y_stats(c_matrix):\n",
    "    tn, fp, fn, tp = c_matrix.reshape(-1)\n",
    "#     print tn, fp, fn, tp\n",
    "    specificity = tn / float(tn + fp)\n",
    "    sensitivity = tp / float(fn + tp)\n",
    "    accuracy = float(tn + tp) / c_matrix.sum()\n",
    "    precision = tp / float(tp + fp)\n",
    "    return specificity, sensitivity, accuracy, precision"
   ]
  },
  {
   "cell_type": "code",
   "execution_count": 13,
   "metadata": {},
   "outputs": [],
   "source": [
    "specificity, sensitivity, accuracy, precision = y_stats(confusion_matrix)"
   ]
  },
  {
   "cell_type": "code",
   "execution_count": 14,
   "metadata": {
    "scrolled": true
   },
   "outputs": [
    {
     "data": {
      "text/plain": [
       "(0.33333333333333331,\n",
       " 0.94666666666666666,\n",
       " 0.7073170731707317,\n",
       " 0.68932038834951459)"
      ]
     },
     "execution_count": 14,
     "metadata": {},
     "output_type": "execute_result"
    }
   ],
   "source": [
    "specificity, sensitivity, accuracy, precision"
   ]
  },
  {
   "cell_type": "markdown",
   "metadata": {},
   "source": [
    "### TODO: Create AUCROC curve"
   ]
  },
  {
   "cell_type": "code",
   "execution_count": 15,
   "metadata": {},
   "outputs": [
    {
     "name": "stdout",
     "output_type": "stream",
     "text": [
      "0.678888888889\n"
     ]
    }
   ],
   "source": [
    "fpr, tpr, threshold = roc_curve(y_test, y_pred_gp[:,1])\n",
    "roc_auc = auc(fpr, tpr)\n",
    "print roc_auc"
   ]
  },
  {
   "cell_type": "code",
   "execution_count": 16,
   "metadata": {},
   "outputs": [
    {
     "data": {
      "text/plain": [
       "Text(0,0.5,u'Sensitivity')"
      ]
     },
     "execution_count": 16,
     "metadata": {},
     "output_type": "execute_result"
    },
    {
     "data": {
      "image/png": "[encoded data removed]",
      "text/plain": [
       "<matplotlib.figure.Figure at 0x7f7bd4415510>"
      ]
     },
     "metadata": {},
     "output_type": "display_data"
    }
   ],
   "source": [
    "plt.plot(fpr, tpr)\n",
    "x = np.linspace(0, 1, 5)\n",
    "plt.plot(x, x)\n",
    "plt.xlabel('1 - Specificity')\n",
    "plt.ylabel('Sensitivity')"
   ]
  },
  {
   "cell_type": "code",
   "execution_count": 17,
   "metadata": {
    "scrolled": true
   },
   "outputs": [
    {
     "data": {
      "text/plain": [
       "((123,), (123,))"
      ]
     },
     "execution_count": 17,
     "metadata": {},
     "output_type": "execute_result"
    }
   ],
   "source": [
    "y_test.shape, y_pred_g.shape"
   ]
  },
  {
   "cell_type": "code",
   "execution_count": 18,
   "metadata": {},
   "outputs": [
    {
     "data": {
      "text/plain": [
       "1    75\n",
       "0    48\n",
       "Name: Loan_Status, dtype: int64"
      ]
     },
     "execution_count": 18,
     "metadata": {},
     "output_type": "execute_result"
    }
   ],
   "source": [
    "y_test.value_counts()"
   ]
  },
  {
   "cell_type": "code",
   "execution_count": null,
   "metadata": {
    "collapsed": true
   },
   "outputs": [],
   "source": []
  }
 ],
 "metadata": {
  "kernelspec": {
   "display_name": "Python 2",
   "language": "python",
   "name": "python2"
  },
  "language_info": {
   "codemirror_mode": {
    "name": "ipython",
    "version": 2
   },
   "file_extension": ".py",
   "mimetype": "text/x-python",
   "name": "python",
   "nbconvert_exporter": "python",
   "pygments_lexer": "ipython2",
   "version": "2.7.14"
  }
 },
 "nbformat": 4,
 "nbformat_minor": 2
}
